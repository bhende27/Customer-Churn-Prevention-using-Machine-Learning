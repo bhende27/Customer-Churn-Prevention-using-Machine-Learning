{
  "nbformat": 4,
  "nbformat_minor": 0,
  "metadata": {
    "kernelspec": {
      "display_name": "Python 3",
      "language": "python",
      "name": "python3"
    },
    "language_info": {
      "codemirror_mode": {
        "name": "ipython",
        "version": 3
      },
      "file_extension": ".py",
      "mimetype": "text/x-python",
      "name": "python",
      "nbconvert_exporter": "python",
      "pygments_lexer": "ipython3",
      "version": "3.6.6"
    },
    "colab": {
      "name": "ANN.ipynb",
      "provenance": [],
      "collapsed_sections": [],
      "include_colab_link": true
    }
  },
  "cells": [
    {
      "cell_type": "markdown",
      "metadata": {
        "id": "view-in-github",
        "colab_type": "text"
      },
      "source": [
        "<a href=\"https://colab.research.google.com/github/bhende27/Prediction-of-Customer-Leaving-the-Bank/blob/master/Churn%20Prediction.ipynb\" target=\"_parent\"><img src=\"https://colab.research.google.com/assets/colab-badge.svg\" alt=\"Open In Colab\"/></a>"
      ]
    },
    {
      "cell_type": "markdown",
      "metadata": {
        "_uuid": "229b64dfa1d1eeca6b0b92f83004aab2e74ee016",
        "id": "UjFIhhDFg0l3",
        "colab_type": "text"
      },
      "source": [
        "The data set consists of data of customers of a bank.By using ANN Algorithm we will try to predict which customer will stay or exit the bank.This prediction will be useful for the Bank to make strategy to retain customers."
      ]
    },
    {
      "cell_type": "markdown",
      "metadata": {
        "_uuid": "d20cb2e9b8d8b60cabf0db5646ef6281daa3254a",
        "id": "j92cpYYOg0nQ",
        "colab_type": "text"
      },
      "source": [
        "### PART A: Preprocessing the input data"
      ]
    },
    {
      "cell_type": "markdown",
      "metadata": {
        "_cell_guid": "79c7e3d0-c299-4dcb-8224-4455121ee9b0",
        "_uuid": "d629ff2d2480ee46fbb7e2d37f6b5fab8052498a",
        "collapsed": true,
        "id": "R1tW-6jIg0nS",
        "colab_type": "text"
      },
      "source": [
        "**1.Importing the Python Modules and Dataset**"
      ]
    },
    {
      "cell_type": "code",
      "metadata": {
        "_kg_hide-input": false,
        "_uuid": "2db81bd8a01076ed34d8c5b9b7acd84841947b34",
        "id": "0MWBPTT2g0nU",
        "colab_type": "code",
        "colab": {}
      },
      "source": [
        "import numpy as np\n",
        "import matplotlib.pyplot as plt \n",
        "import pandas as pd \n",
        "import warnings\n",
        "warnings.filterwarnings('ignore') "
      ],
      "execution_count": null,
      "outputs": []
    },
    {
      "cell_type": "code",
      "metadata": {
        "_uuid": "83e910265bbe8981b7f9ccd5272a98a3204e4f1c",
        "id": "gA1lfl58g0nb",
        "colab_type": "code",
        "colab": {
          "base_uri": "https://localhost:8080/",
          "height": 224
        },
        "outputId": "1c25022a-5e7b-4488-c55c-fbcaa75f695f"
      },
      "source": [
        "data=pd.read_csv('Churn_Modelling.csv')\n",
        "data.head()"
      ],
      "execution_count": null,
      "outputs": [
        {
          "output_type": "execute_result",
          "data": {
            "text/html": [
              "<div>\n",
              "<style scoped>\n",
              "    .dataframe tbody tr th:only-of-type {\n",
              "        vertical-align: middle;\n",
              "    }\n",
              "\n",
              "    .dataframe tbody tr th {\n",
              "        vertical-align: top;\n",
              "    }\n",
              "\n",
              "    .dataframe thead th {\n",
              "        text-align: right;\n",
              "    }\n",
              "</style>\n",
              "<table border=\"1\" class=\"dataframe\">\n",
              "  <thead>\n",
              "    <tr style=\"text-align: right;\">\n",
              "      <th></th>\n",
              "      <th>RowNumber</th>\n",
              "      <th>CustomerId</th>\n",
              "      <th>Surname</th>\n",
              "      <th>CreditScore</th>\n",
              "      <th>Geography</th>\n",
              "      <th>Gender</th>\n",
              "      <th>Age</th>\n",
              "      <th>Tenure</th>\n",
              "      <th>Balance</th>\n",
              "      <th>NumOfProducts</th>\n",
              "      <th>HasCrCard</th>\n",
              "      <th>IsActiveMember</th>\n",
              "      <th>EstimatedSalary</th>\n",
              "      <th>Exited</th>\n",
              "    </tr>\n",
              "  </thead>\n",
              "  <tbody>\n",
              "    <tr>\n",
              "      <th>0</th>\n",
              "      <td>1</td>\n",
              "      <td>15634601</td>\n",
              "      <td>Hargrave</td>\n",
              "      <td>619</td>\n",
              "      <td>France</td>\n",
              "      <td>Female</td>\n",
              "      <td>42</td>\n",
              "      <td>2</td>\n",
              "      <td>0.00</td>\n",
              "      <td>1</td>\n",
              "      <td>1</td>\n",
              "      <td>1</td>\n",
              "      <td>101348.88</td>\n",
              "      <td>1</td>\n",
              "    </tr>\n",
              "    <tr>\n",
              "      <th>1</th>\n",
              "      <td>2</td>\n",
              "      <td>15647311</td>\n",
              "      <td>Hill</td>\n",
              "      <td>608</td>\n",
              "      <td>Spain</td>\n",
              "      <td>Female</td>\n",
              "      <td>41</td>\n",
              "      <td>1</td>\n",
              "      <td>83807.86</td>\n",
              "      <td>1</td>\n",
              "      <td>0</td>\n",
              "      <td>1</td>\n",
              "      <td>112542.58</td>\n",
              "      <td>0</td>\n",
              "    </tr>\n",
              "    <tr>\n",
              "      <th>2</th>\n",
              "      <td>3</td>\n",
              "      <td>15619304</td>\n",
              "      <td>Onio</td>\n",
              "      <td>502</td>\n",
              "      <td>France</td>\n",
              "      <td>Female</td>\n",
              "      <td>42</td>\n",
              "      <td>8</td>\n",
              "      <td>159660.80</td>\n",
              "      <td>3</td>\n",
              "      <td>1</td>\n",
              "      <td>0</td>\n",
              "      <td>113931.57</td>\n",
              "      <td>1</td>\n",
              "    </tr>\n",
              "    <tr>\n",
              "      <th>3</th>\n",
              "      <td>4</td>\n",
              "      <td>15701354</td>\n",
              "      <td>Boni</td>\n",
              "      <td>699</td>\n",
              "      <td>France</td>\n",
              "      <td>Female</td>\n",
              "      <td>39</td>\n",
              "      <td>1</td>\n",
              "      <td>0.00</td>\n",
              "      <td>2</td>\n",
              "      <td>0</td>\n",
              "      <td>0</td>\n",
              "      <td>93826.63</td>\n",
              "      <td>0</td>\n",
              "    </tr>\n",
              "    <tr>\n",
              "      <th>4</th>\n",
              "      <td>5</td>\n",
              "      <td>15737888</td>\n",
              "      <td>Mitchell</td>\n",
              "      <td>850</td>\n",
              "      <td>Spain</td>\n",
              "      <td>Female</td>\n",
              "      <td>43</td>\n",
              "      <td>2</td>\n",
              "      <td>125510.82</td>\n",
              "      <td>1</td>\n",
              "      <td>1</td>\n",
              "      <td>1</td>\n",
              "      <td>79084.10</td>\n",
              "      <td>0</td>\n",
              "    </tr>\n",
              "  </tbody>\n",
              "</table>\n",
              "</div>"
            ],
            "text/plain": [
              "   RowNumber  CustomerId   Surname  ...  IsActiveMember EstimatedSalary Exited\n",
              "0          1    15634601  Hargrave  ...               1       101348.88      1\n",
              "1          2    15647311      Hill  ...               1       112542.58      0\n",
              "2          3    15619304      Onio  ...               0       113931.57      1\n",
              "3          4    15701354      Boni  ...               0        93826.63      0\n",
              "4          5    15737888  Mitchell  ...               1        79084.10      0\n",
              "\n",
              "[5 rows x 14 columns]"
            ]
          },
          "metadata": {
            "tags": []
          },
          "execution_count": 58
        }
      ]
    },
    {
      "cell_type": "markdown",
      "metadata": {
        "_uuid": "7a79e0b165e9ccab2042df0623a0dae540b54911",
        "id": "e-wLz17Ng0ni",
        "colab_type": "text"
      },
      "source": [
        "So we can see that the Data has the details of the customer's like Customer ID,Name,Credit Score,Country,Age,Sex and the dealings of a customer with the bank. "
      ]
    },
    {
      "cell_type": "markdown",
      "metadata": {
        "id": "mcINSgzXBPQa",
        "colab_type": "text"
      },
      "source": [
        "2.*** Performing Exploratory data analysis***"
      ]
    },
    {
      "cell_type": "code",
      "metadata": {
        "id": "-WdWnH6P_Ul1",
        "colab_type": "code",
        "colab": {
          "base_uri": "https://localhost:8080/",
          "height": 340
        },
        "outputId": "d0892ec1-fbdb-43ff-c3af-c68de1621876"
      },
      "source": [
        "data.info()"
      ],
      "execution_count": null,
      "outputs": [
        {
          "output_type": "stream",
          "text": [
            "<class 'pandas.core.frame.DataFrame'>\n",
            "RangeIndex: 10000 entries, 0 to 9999\n",
            "Data columns (total 14 columns):\n",
            "RowNumber          10000 non-null int64\n",
            "CustomerId         10000 non-null int64\n",
            "Surname            10000 non-null object\n",
            "CreditScore        10000 non-null int64\n",
            "Geography          10000 non-null object\n",
            "Gender             10000 non-null object\n",
            "Age                10000 non-null int64\n",
            "Tenure             10000 non-null int64\n",
            "Balance            10000 non-null float64\n",
            "NumOfProducts      10000 non-null int64\n",
            "HasCrCard          10000 non-null int64\n",
            "IsActiveMember     10000 non-null int64\n",
            "EstimatedSalary    10000 non-null float64\n",
            "Exited             10000 non-null int64\n",
            "dtypes: float64(2), int64(9), object(3)\n",
            "memory usage: 1.1+ MB\n"
          ],
          "name": "stdout"
        }
      ]
    },
    {
      "cell_type": "code",
      "metadata": {
        "id": "FMFNLicv_ZPw",
        "colab_type": "code",
        "colab": {
          "base_uri": "https://localhost:8080/",
          "height": 272
        },
        "outputId": "7484fd7b-f44b-4e99-de78-15e42acabec2"
      },
      "source": [
        "data.isnull().sum(axis=0)"
      ],
      "execution_count": null,
      "outputs": [
        {
          "output_type": "execute_result",
          "data": {
            "text/plain": [
              "RowNumber          0\n",
              "CustomerId         0\n",
              "Surname            0\n",
              "CreditScore        0\n",
              "Geography          0\n",
              "Gender             0\n",
              "Age                0\n",
              "Tenure             0\n",
              "Balance            0\n",
              "NumOfProducts      0\n",
              "HasCrCard          0\n",
              "IsActiveMember     0\n",
              "EstimatedSalary    0\n",
              "Exited             0\n",
              "dtype: int64"
            ]
          },
          "metadata": {
            "tags": []
          },
          "execution_count": 18
        }
      ]
    },
    {
      "cell_type": "code",
      "metadata": {
        "id": "lJp5-sbL_bej",
        "colab_type": "code",
        "colab": {
          "base_uri": "https://localhost:8080/",
          "height": 343
        },
        "outputId": "fa02011f-b8fe-4a42-95b2-29aa5b7e8702"
      },
      "source": [
        "Gencount=data[\"Gender\"].value_counts()\n",
        "Gencount.plot.bar()\n",
        "print(Gencount)"
      ],
      "execution_count": null,
      "outputs": [
        {
          "output_type": "stream",
          "text": [
            "Male      5457\n",
            "Female    4543\n",
            "Name: Gender, dtype: int64\n"
          ],
          "name": "stdout"
        },
        {
          "output_type": "display_data",
          "data": {
            "image/png": "[encoded data removed]",
            "text/plain": [
              "<Figure size 432x288 with 1 Axes>"
            ]
          },
          "metadata": {
            "tags": []
          }
        }
      ]
    },
    {
      "cell_type": "code",
      "metadata": {
        "id": "14lFsWam_ejx",
        "colab_type": "code",
        "colab": {
          "base_uri": "https://localhost:8080/",
          "height": 313
        },
        "outputId": "f00a26b1-2aff-496b-ad50-a63c79eba7ed"
      },
      "source": [
        "cardcount=data[\"HasCrCard\"].value_counts()\n",
        "cardcount.plot.bar()\n",
        "print(cardcount)"
      ],
      "execution_count": null,
      "outputs": [
        {
          "output_type": "stream",
          "text": [
            "1    7055\n",
            "0    2945\n",
            "Name: HasCrCard, dtype: int64\n"
          ],
          "name": "stdout"
        },
        {
          "output_type": "display_data",
          "data": {
            "image/png": "[encoded data removed]",
            "text/plain": [
              "<Figure size 432x288 with 1 Axes>"
            ]
          },
          "metadata": {
            "tags": []
          }
        }
      ]
    },
    {
      "cell_type": "code",
      "metadata": {
        "id": "3JpkbZT__gpR",
        "colab_type": "code",
        "colab": {
          "base_uri": "https://localhost:8080/",
          "height": 313
        },
        "outputId": "75749a43-4228-4b8a-b516-d71ad4a4dae6"
      },
      "source": [
        "IsActiveMembercount=data[\"IsActiveMember\"].value_counts()\n",
        "IsActiveMembercount.plot.bar()\n",
        "print(IsActiveMembercount)"
      ],
      "execution_count": null,
      "outputs": [
        {
          "output_type": "stream",
          "text": [
            "1    5151\n",
            "0    4849\n",
            "Name: IsActiveMember, dtype: int64\n"
          ],
          "name": "stdout"
        },
        {
          "output_type": "display_data",
          "data": {
            "image/png": "[encoded data removed]",
            "text/plain": [
              "<Figure size 432x288 with 1 Axes>"
            ]
          },
          "metadata": {
            "tags": []
          }
        }
      ]
    },
    {
      "cell_type": "code",
      "metadata": {
        "id": "vhlZ1L1k_ivp",
        "colab_type": "code",
        "colab": {
          "base_uri": "https://localhost:8080/",
          "height": 472
        },
        "outputId": "51cd0e78-481e-44e0-9c20-3434e416efd7"
      },
      "source": [
        "Tencount=data[\"Tenure\"].value_counts()\n",
        "Tencount.plot.bar()\n",
        "print(Tencount)"
      ],
      "execution_count": null,
      "outputs": [
        {
          "output_type": "stream",
          "text": [
            "2     1048\n",
            "1     1035\n",
            "7     1028\n",
            "8     1025\n",
            "5     1012\n",
            "3     1009\n",
            "4      989\n",
            "9      984\n",
            "6      967\n",
            "10     490\n",
            "0      413\n",
            "Name: Tenure, dtype: int64\n"
          ],
          "name": "stdout"
        },
        {
          "output_type": "display_data",
          "data": {
            "image/png": "[encoded data removed]",
            "text/plain": [
              "<Figure size 432x288 with 1 Axes>"
            ]
          },
          "metadata": {
            "tags": []
          }
        }
      ]
    },
    {
      "cell_type": "code",
      "metadata": {
        "id": "6vp_P1Ov_lA6",
        "colab_type": "code",
        "colab": {
          "base_uri": "https://localhost:8080/",
          "height": 347
        },
        "outputId": "58a34d83-1f87-4738-ec5a-c2d468ec1204"
      },
      "source": [
        "NumOfProductscount=data[\"NumOfProducts\"].value_counts()\n",
        "NumOfProductscount.plot.bar()\n",
        "print(NumOfProductscount)"
      ],
      "execution_count": null,
      "outputs": [
        {
          "output_type": "stream",
          "text": [
            "1    5084\n",
            "2    4590\n",
            "3     266\n",
            "4      60\n",
            "Name: NumOfProducts, dtype: int64\n"
          ],
          "name": "stdout"
        },
        {
          "output_type": "display_data",
          "data": {
            "image/png": "[encoded data removed]",
            "text/plain": [
              "<Figure size 432x288 with 1 Axes>"
            ]
          },
          "metadata": {
            "tags": []
          }
        }
      ]
    },
    {
      "cell_type": "code",
      "metadata": {
        "id": "ODbJzDpR_ngJ",
        "colab_type": "code",
        "colab": {
          "base_uri": "https://localhost:8080/",
          "height": 369
        },
        "outputId": "cde8b571-6a99-4a23-8956-5239b8b7052d"
      },
      "source": [
        "Geocount=data[\"Geography\"].value_counts()\n",
        "Geocount.plot.bar()\n",
        "print(Geocount)"
      ],
      "execution_count": null,
      "outputs": [
        {
          "output_type": "stream",
          "text": [
            "France     5014\n",
            "Germany    2509\n",
            "Spain      2477\n",
            "Name: Geography, dtype: int64\n"
          ],
          "name": "stdout"
        },
        {
          "output_type": "display_data",
          "data": {
            "image/png": "[encoded data removed]",
            "text/plain": [
              "<Figure size 432x288 with 1 Axes>"
            ]
          },
          "metadata": {
            "tags": []
          }
        }
      ]
    },
    {
      "cell_type": "code",
      "metadata": {
        "id": "zL5KH9icArN9",
        "colab_type": "code",
        "colab": {
          "base_uri": "https://localhost:8080/",
          "height": 410
        },
        "outputId": "13bb8112-9075-48a9-e913-e29a15cc00ac"
      },
      "source": [
        "data.corr()"
      ],
      "execution_count": null,
      "outputs": [
        {
          "output_type": "execute_result",
          "data": {
            "text/html": [
              "<div>\n",
              "<style scoped>\n",
              "    .dataframe tbody tr th:only-of-type {\n",
              "        vertical-align: middle;\n",
              "    }\n",
              "\n",
              "    .dataframe tbody tr th {\n",
              "        vertical-align: top;\n",
              "    }\n",
              "\n",
              "    .dataframe thead th {\n",
              "        text-align: right;\n",
              "    }\n",
              "</style>\n",
              "<table border=\"1\" class=\"dataframe\">\n",
              "  <thead>\n",
              "    <tr style=\"text-align: right;\">\n",
              "      <th></th>\n",
              "      <th>RowNumber</th>\n",
              "      <th>CustomerId</th>\n",
              "      <th>CreditScore</th>\n",
              "      <th>Age</th>\n",
              "      <th>Tenure</th>\n",
              "      <th>Balance</th>\n",
              "      <th>NumOfProducts</th>\n",
              "      <th>HasCrCard</th>\n",
              "      <th>IsActiveMember</th>\n",
              "      <th>EstimatedSalary</th>\n",
              "      <th>Exited</th>\n",
              "    </tr>\n",
              "  </thead>\n",
              "  <tbody>\n",
              "    <tr>\n",
              "      <th>RowNumber</th>\n",
              "      <td>1.000000</td>\n",
              "      <td>0.004202</td>\n",
              "      <td>0.005840</td>\n",
              "      <td>0.000783</td>\n",
              "      <td>-0.006495</td>\n",
              "      <td>-0.009067</td>\n",
              "      <td>0.007246</td>\n",
              "      <td>0.000599</td>\n",
              "      <td>0.012044</td>\n",
              "      <td>-0.005988</td>\n",
              "      <td>-0.016571</td>\n",
              "    </tr>\n",
              "    <tr>\n",
              "      <th>CustomerId</th>\n",
              "      <td>0.004202</td>\n",
              "      <td>1.000000</td>\n",
              "      <td>0.005308</td>\n",
              "      <td>0.009497</td>\n",
              "      <td>-0.014883</td>\n",
              "      <td>-0.012419</td>\n",
              "      <td>0.016972</td>\n",
              "      <td>-0.014025</td>\n",
              "      <td>0.001665</td>\n",
              "      <td>0.015271</td>\n",
              "      <td>-0.006248</td>\n",
              "    </tr>\n",
              "    <tr>\n",
              "      <th>CreditScore</th>\n",
              "      <td>0.005840</td>\n",
              "      <td>0.005308</td>\n",
              "      <td>1.000000</td>\n",
              "      <td>-0.003965</td>\n",
              "      <td>0.000842</td>\n",
              "      <td>0.006268</td>\n",
              "      <td>0.012238</td>\n",
              "      <td>-0.005458</td>\n",
              "      <td>0.025651</td>\n",
              "      <td>-0.001384</td>\n",
              "      <td>-0.027094</td>\n",
              "    </tr>\n",
              "    <tr>\n",
              "      <th>Age</th>\n",
              "      <td>0.000783</td>\n",
              "      <td>0.009497</td>\n",
              "      <td>-0.003965</td>\n",
              "      <td>1.000000</td>\n",
              "      <td>-0.009997</td>\n",
              "      <td>0.028308</td>\n",
              "      <td>-0.030680</td>\n",
              "      <td>-0.011721</td>\n",
              "      <td>0.085472</td>\n",
              "      <td>-0.007201</td>\n",
              "      <td>0.285323</td>\n",
              "    </tr>\n",
              "    <tr>\n",
              "      <th>Tenure</th>\n",
              "      <td>-0.006495</td>\n",
              "      <td>-0.014883</td>\n",
              "      <td>0.000842</td>\n",
              "      <td>-0.009997</td>\n",
              "      <td>1.000000</td>\n",
              "      <td>-0.012254</td>\n",
              "      <td>0.013444</td>\n",
              "      <td>0.022583</td>\n",
              "      <td>-0.028362</td>\n",
              "      <td>0.007784</td>\n",
              "      <td>-0.014001</td>\n",
              "    </tr>\n",
              "    <tr>\n",
              "      <th>Balance</th>\n",
              "      <td>-0.009067</td>\n",
              "      <td>-0.012419</td>\n",
              "      <td>0.006268</td>\n",
              "      <td>0.028308</td>\n",
              "      <td>-0.012254</td>\n",
              "      <td>1.000000</td>\n",
              "      <td>-0.304180</td>\n",
              "      <td>-0.014858</td>\n",
              "      <td>-0.010084</td>\n",
              "      <td>0.012797</td>\n",
              "      <td>0.118533</td>\n",
              "    </tr>\n",
              "    <tr>\n",
              "      <th>NumOfProducts</th>\n",
              "      <td>0.007246</td>\n",
              "      <td>0.016972</td>\n",
              "      <td>0.012238</td>\n",
              "      <td>-0.030680</td>\n",
              "      <td>0.013444</td>\n",
              "      <td>-0.304180</td>\n",
              "      <td>1.000000</td>\n",
              "      <td>0.003183</td>\n",
              "      <td>0.009612</td>\n",
              "      <td>0.014204</td>\n",
              "      <td>-0.047820</td>\n",
              "    </tr>\n",
              "    <tr>\n",
              "      <th>HasCrCard</th>\n",
              "      <td>0.000599</td>\n",
              "      <td>-0.014025</td>\n",
              "      <td>-0.005458</td>\n",
              "      <td>-0.011721</td>\n",
              "      <td>0.022583</td>\n",
              "      <td>-0.014858</td>\n",
              "      <td>0.003183</td>\n",
              "      <td>1.000000</td>\n",
              "      <td>-0.011866</td>\n",
              "      <td>-0.009933</td>\n",
              "      <td>-0.007138</td>\n",
              "    </tr>\n",
              "    <tr>\n",
              "      <th>IsActiveMember</th>\n",
              "      <td>0.012044</td>\n",
              "      <td>0.001665</td>\n",
              "      <td>0.025651</td>\n",
              "      <td>0.085472</td>\n",
              "      <td>-0.028362</td>\n",
              "      <td>-0.010084</td>\n",
              "      <td>0.009612</td>\n",
              "      <td>-0.011866</td>\n",
              "      <td>1.000000</td>\n",
              "      <td>-0.011421</td>\n",
              "      <td>-0.156128</td>\n",
              "    </tr>\n",
              "    <tr>\n",
              "      <th>EstimatedSalary</th>\n",
              "      <td>-0.005988</td>\n",
              "      <td>0.015271</td>\n",
              "      <td>-0.001384</td>\n",
              "      <td>-0.007201</td>\n",
              "      <td>0.007784</td>\n",
              "      <td>0.012797</td>\n",
              "      <td>0.014204</td>\n",
              "      <td>-0.009933</td>\n",
              "      <td>-0.011421</td>\n",
              "      <td>1.000000</td>\n",
              "      <td>0.012097</td>\n",
              "    </tr>\n",
              "    <tr>\n",
              "      <th>Exited</th>\n",
              "      <td>-0.016571</td>\n",
              "      <td>-0.006248</td>\n",
              "      <td>-0.027094</td>\n",
              "      <td>0.285323</td>\n",
              "      <td>-0.014001</td>\n",
              "      <td>0.118533</td>\n",
              "      <td>-0.047820</td>\n",
              "      <td>-0.007138</td>\n",
              "      <td>-0.156128</td>\n",
              "      <td>0.012097</td>\n",
              "      <td>1.000000</td>\n",
              "    </tr>\n",
              "  </tbody>\n",
              "</table>\n",
              "</div>"
            ],
            "text/plain": [
              "                 RowNumber  CustomerId  ...  EstimatedSalary    Exited\n",
              "RowNumber         1.000000    0.004202  ...        -0.005988 -0.016571\n",
              "CustomerId        0.004202    1.000000  ...         0.015271 -0.006248\n",
              "CreditScore       0.005840    0.005308  ...        -0.001384 -0.027094\n",
              "Age               0.000783    0.009497  ...        -0.007201  0.285323\n",
              "Tenure           -0.006495   -0.014883  ...         0.007784 -0.014001\n",
              "Balance          -0.009067   -0.012419  ...         0.012797  0.118533\n",
              "NumOfProducts     0.007246    0.016972  ...         0.014204 -0.047820\n",
              "HasCrCard         0.000599   -0.014025  ...        -0.009933 -0.007138\n",
              "IsActiveMember    0.012044    0.001665  ...        -0.011421 -0.156128\n",
              "EstimatedSalary  -0.005988    0.015271  ...         1.000000  0.012097\n",
              "Exited           -0.016571   -0.006248  ...         0.012097  1.000000\n",
              "\n",
              "[11 rows x 11 columns]"
            ]
          },
          "metadata": {
            "tags": []
          },
          "execution_count": 28
        }
      ]
    },
    {
      "cell_type": "code",
      "metadata": {
        "id": "CLTfNPMZboaJ",
        "colab_type": "code",
        "colab": {
          "base_uri": "https://localhost:8080/",
          "height": 265
        },
        "outputId": "d5e2fa15-cb7f-4835-91d6-50fdf782ba89"
      },
      "source": [
        "plt.scatter(data[\"EstimatedSalary\"], data[\"Balance\"])\n",
        "plt.show()"
      ],
      "execution_count": null,
      "outputs": [
        {
          "output_type": "display_data",
          "data": {
            "image/png": "[encoded data removed]",
            "text/plain": [
              "<Figure size 432x288 with 1 Axes>"
            ]
          },
          "metadata": {
            "tags": []
          }
        }
      ]
    },
    {
      "cell_type": "markdown",
      "metadata": {
        "_uuid": "aee307142a490400f91c7e64fa9963c82ca3e9c9",
        "id": "H88nu-F1g0nk",
        "colab_type": "text"
      },
      "source": [
        "**3.Generating Array of Features and Target Values**"
      ]
    },
    {
      "cell_type": "code",
      "metadata": {
        "_uuid": "ad05c4c5286109187d55d8bcc634138373875e02",
        "id": "Uhr8NP-vg0nm",
        "colab_type": "code",
        "colab": {
          "base_uri": "https://localhost:8080/",
          "height": 119
        },
        "outputId": "32357047-549e-44e4-89a0-d7da272bfd1b"
      },
      "source": [
        "X=data.iloc[:,3:13].values\n",
        "#X\n",
        "y=data.iloc[:,13].values\n",
        "print(X[0:5][:])\n",
        "print(y[0:5][:])\n"
      ],
      "execution_count": null,
      "outputs": [
        {
          "output_type": "stream",
          "text": [
            "[[619 'France' 'Female' 42 2 0.0 1 1 1 101348.88]\n",
            " [608 'Spain' 'Female' 41 1 83807.86 1 0 1 112542.58]\n",
            " [502 'France' 'Female' 42 8 159660.8 3 1 0 113931.57]\n",
            " [699 'France' 'Female' 39 1 0.0 2 0 0 93826.63]\n",
            " [850 'Spain' 'Female' 43 2 125510.82 1 1 1 79084.1]]\n",
            "[1 0 1 0 0]\n"
          ],
          "name": "stdout"
        }
      ]
    },
    {
      "cell_type": "markdown",
      "metadata": {
        "_uuid": "32c091d2e355d4ad28927e5fd594fef6f7920921",
        "id": "NfRwmC5vg0nx",
        "colab_type": "text"
      },
      "source": [
        "4.Encoding the Catogerical Data "
      ]
    },
    {
      "cell_type": "code",
      "metadata": {
        "_uuid": "06fa840cb465ca6b849651230dd6a9aba989ae78",
        "id": "DXO9nRNVg0nz",
        "colab_type": "code",
        "colab": {
          "base_uri": "https://localhost:8080/",
          "height": 289
        },
        "outputId": "dc113d7a-d891-4db7-c349-0c926a2dc9d9"
      },
      "source": [
        "from sklearn.preprocessing import LabelEncoder,OneHotEncoder\n",
        "labelencoder_X_1=LabelEncoder()\n",
        "X[:,1] = labelencoder_X_1.fit_transform(X[:,1]) #Encoding the values of column Country\n",
        "labelencoder_X_2=LabelEncoder()\n",
        "X[:,2] = labelencoder_X_2.fit_transform(X[:,2])\n",
        "onehotencoder=OneHotEncoder(categorical_features=[1])\n",
        "X=onehotencoder.fit_transform(X).toarray()\n",
        "X=X[:,1:]\n",
        "print(X[0:5][:])\n",
        "print(y[0:5][:])"
      ],
      "execution_count": null,
      "outputs": [
        {
          "output_type": "stream",
          "text": [
            "[[0.0000000e+00 0.0000000e+00 6.1900000e+02 0.0000000e+00 4.2000000e+01\n",
            "  2.0000000e+00 0.0000000e+00 1.0000000e+00 1.0000000e+00 1.0000000e+00\n",
            "  1.0134888e+05]\n",
            " [0.0000000e+00 1.0000000e+00 6.0800000e+02 0.0000000e+00 4.1000000e+01\n",
            "  1.0000000e+00 8.3807860e+04 1.0000000e+00 0.0000000e+00 1.0000000e+00\n",
            "  1.1254258e+05]\n",
            " [0.0000000e+00 0.0000000e+00 5.0200000e+02 0.0000000e+00 4.2000000e+01\n",
            "  8.0000000e+00 1.5966080e+05 3.0000000e+00 1.0000000e+00 0.0000000e+00\n",
            "  1.1393157e+05]\n",
            " [0.0000000e+00 0.0000000e+00 6.9900000e+02 0.0000000e+00 3.9000000e+01\n",
            "  1.0000000e+00 0.0000000e+00 2.0000000e+00 0.0000000e+00 0.0000000e+00\n",
            "  9.3826630e+04]\n",
            " [0.0000000e+00 1.0000000e+00 8.5000000e+02 0.0000000e+00 4.3000000e+01\n",
            "  2.0000000e+00 1.2551082e+05 1.0000000e+00 1.0000000e+00 1.0000000e+00\n",
            "  7.9084100e+04]]\n",
            "[1 0 1 0 0]\n"
          ],
          "name": "stdout"
        }
      ]
    },
    {
      "cell_type": "markdown",
      "metadata": {
        "_uuid": "c96fd4c9df94cd94ed24d3b74751bfb3dd0cc025",
        "id": "m3Qj6Tnwg0oA",
        "colab_type": "text"
      },
      "source": [
        "**5.Splitting the dataset to Train and Test Set**"
      ]
    },
    {
      "cell_type": "code",
      "metadata": {
        "_uuid": "65849a15962ffd4dd9e21911f329ae6e39a21c82",
        "id": "dmbM4LAng0oC",
        "colab_type": "code",
        "colab": {
          "base_uri": "https://localhost:8080/",
          "height": 527
        },
        "outputId": "697f8b96-113f-4b8a-cbaa-651d8235710e"
      },
      "source": [
        "from sklearn.model_selection import train_test_split   #cross_validation doesnt work any more\n",
        "X_train,X_test,y_train,y_test=train_test_split(X,y,test_size=0.2,random_state=0) \n",
        "print(X_train[0:5][:])\n",
        "print(X_test[0:5][:])"
      ],
      "execution_count": null,
      "outputs": [
        {
          "output_type": "stream",
          "text": [
            "[[0.0000000e+00 1.0000000e+00 6.6700000e+02 0.0000000e+00 3.4000000e+01\n",
            "  5.0000000e+00 0.0000000e+00 2.0000000e+00 1.0000000e+00 0.0000000e+00\n",
            "  1.6383064e+05]\n",
            " [1.0000000e+00 0.0000000e+00 4.2700000e+02 1.0000000e+00 4.2000000e+01\n",
            "  1.0000000e+00 7.5681520e+04 1.0000000e+00 1.0000000e+00 1.0000000e+00\n",
            "  5.7098000e+04]\n",
            " [0.0000000e+00 0.0000000e+00 5.3500000e+02 0.0000000e+00 2.9000000e+01\n",
            "  2.0000000e+00 1.1236734e+05 1.0000000e+00 1.0000000e+00 0.0000000e+00\n",
            "  1.8563076e+05]\n",
            " [0.0000000e+00 1.0000000e+00 6.5400000e+02 1.0000000e+00 4.0000000e+01\n",
            "  5.0000000e+00 1.0568363e+05 1.0000000e+00 1.0000000e+00 0.0000000e+00\n",
            "  1.7361709e+05]\n",
            " [0.0000000e+00 1.0000000e+00 8.5000000e+02 0.0000000e+00 5.7000000e+01\n",
            "  8.0000000e+00 1.2677630e+05 2.0000000e+00 1.0000000e+00 1.0000000e+00\n",
            "  1.3229849e+05]]\n",
            "[[1.0000000e+00 0.0000000e+00 5.9700000e+02 0.0000000e+00 3.5000000e+01\n",
            "  8.0000000e+00 1.3110104e+05 1.0000000e+00 1.0000000e+00 1.0000000e+00\n",
            "  1.9285267e+05]\n",
            " [0.0000000e+00 0.0000000e+00 5.2300000e+02 0.0000000e+00 4.0000000e+01\n",
            "  2.0000000e+00 1.0296741e+05 1.0000000e+00 1.0000000e+00 0.0000000e+00\n",
            "  1.2870210e+05]\n",
            " [0.0000000e+00 1.0000000e+00 7.0600000e+02 0.0000000e+00 4.2000000e+01\n",
            "  8.0000000e+00 9.5386820e+04 1.0000000e+00 1.0000000e+00 1.0000000e+00\n",
            "  7.5732250e+04]\n",
            " [0.0000000e+00 0.0000000e+00 7.8800000e+02 1.0000000e+00 3.2000000e+01\n",
            "  4.0000000e+00 1.1207958e+05 1.0000000e+00 0.0000000e+00 0.0000000e+00\n",
            "  8.9368590e+04]\n",
            " [1.0000000e+00 0.0000000e+00 7.0600000e+02 1.0000000e+00 3.8000000e+01\n",
            "  5.0000000e+00 1.6303482e+05 2.0000000e+00 1.0000000e+00 1.0000000e+00\n",
            "  1.3566217e+05]]\n"
          ],
          "name": "stdout"
        }
      ]
    },
    {
      "cell_type": "markdown",
      "metadata": {
        "_uuid": "8813cebfb6175bf704cd2bb820dd12b253d4131f",
        "id": "Q1rKmX5Qg0oU",
        "colab_type": "text"
      },
      "source": [
        "**6.Feature Scaling**"
      ]
    },
    {
      "cell_type": "code",
      "metadata": {
        "_uuid": "59993de7cf2d53c3ac92e349f1209b188e21151b",
        "id": "hUT5qUe8g0oW",
        "colab_type": "code",
        "colab": {
          "base_uri": "https://localhost:8080/",
          "height": 357
        },
        "outputId": "cf8bfada-dd1c-4f3e-e25f-6215fbf0b0cc"
      },
      "source": [
        "from sklearn.preprocessing import StandardScaler \n",
        "sc_X=StandardScaler()\n",
        "X_train=sc_X.fit_transform(X_train)\n",
        "X_test=sc_X.fit_transform(X_test)\n",
        "print(X_train[0:5][:])\n",
        "print(X_test[0:5][:])"
      ],
      "execution_count": null,
      "outputs": [
        {
          "output_type": "stream",
          "text": [
            "[[-0.5698444   1.74309049  0.16958176 -1.09168714 -0.46460796  0.00666099\n",
            "  -1.21571749  0.8095029   0.64259497 -1.03227043  1.10643166]\n",
            " [ 1.75486502 -0.57369368 -2.30455945  0.91601335  0.30102557 -1.37744033\n",
            "  -0.00631193 -0.92159124  0.64259497  0.9687384  -0.74866447]\n",
            " [-0.5698444  -0.57369368 -1.19119591 -1.09168714 -0.94312892 -1.031415\n",
            "   0.57993469 -0.92159124  0.64259497 -1.03227043  1.48533467]\n",
            " [-0.5698444   1.74309049  0.03556578  0.91601335  0.10961719  0.00666099\n",
            "   0.47312769 -0.92159124  0.64259497 -1.03227043  1.27652776]\n",
            " [-0.5698444   1.74309049  2.05611444 -1.09168714  1.73658844  1.04473698\n",
            "   0.8101927   0.8095029   0.64259497  0.9687384   0.55837842]]\n",
            "[[ 1.62776996 -0.57427105 -0.56129438 -1.11339196 -0.39401698  0.9869706\n",
            "   0.85962168 -0.8733766   0.66011376  0.97628121  1.62185911]\n",
            " [-0.61433742 -0.57427105 -1.33847768 -1.11339196  0.07611425 -1.08432132\n",
            "   0.4031217  -0.8733766   0.66011376 -1.02429504  0.504204  ]\n",
            " [-0.61433742  1.74133801  0.58347561 -1.11339196  0.26416674  0.9869706\n",
            "   0.28011804 -0.8733766   0.66011376  0.97628121 -0.41865644]\n",
            " [-0.61433742 -0.57427105  1.44467872  0.8981563  -0.67609572 -0.39389068\n",
            "   0.55097697 -0.8733766  -1.5148904  -1.02429504 -0.18107905]\n",
            " [ 1.62776996 -0.57427105  0.58347561  0.8981563  -0.11193825 -0.04867536\n",
            "   1.3777834   0.80136281  0.66011376  0.97628121  0.62546493]]\n"
          ],
          "name": "stdout"
        }
      ]
    },
    {
      "cell_type": "markdown",
      "metadata": {
        "_uuid": "5e5f1355db4b3bd324e76381c82d66a2e46bfc7a",
        "id": "DAYUYchfg0o2",
        "colab_type": "text"
      },
      "source": [
        "### PART B: Building the ANN"
      ]
    },
    {
      "cell_type": "markdown",
      "metadata": {
        "_uuid": "ed7b22db977e216c1fcdb883c89a7473b0994201",
        "id": "67wzHBSVg0pD",
        "colab_type": "text"
      },
      "source": [
        "**7.Importing the Keras Library **"
      ]
    },
    {
      "cell_type": "code",
      "metadata": {
        "_uuid": "ded31c969f5baca3fa7300343c747377e45e4c0d",
        "id": "VuJ-Ya7tg0pF",
        "colab_type": "code",
        "colab": {}
      },
      "source": [
        "import keras \n",
        "from keras.models import Sequential \n",
        "from keras.layers import Dense "
      ],
      "execution_count": null,
      "outputs": []
    },
    {
      "cell_type": "markdown",
      "metadata": {
        "_uuid": "93480429eaa28960bbf4af105b63bb9d6d152bb5",
        "id": "qGxhHoZRg0ps",
        "colab_type": "text"
      },
      "source": [
        "**8.Initialising the ANN **"
      ]
    },
    {
      "cell_type": "code",
      "metadata": {
        "_uuid": "1b4029dd9a6f9a3fee5a2190dbe0146a666e37e9",
        "id": "AicFOpa5g0p6",
        "colab_type": "code",
        "colab": {}
      },
      "source": [
        "classifier=Sequential()"
      ],
      "execution_count": null,
      "outputs": []
    },
    {
      "cell_type": "markdown",
      "metadata": {
        "_uuid": "b70530a62e12fedc9ee32f04ce1ebf6a1e30b1f0",
        "id": "3CvxYUexg0qM",
        "colab_type": "text"
      },
      "source": [
        "### PART C: Making prediction and evaluating the model"
      ]
    },
    {
      "cell_type": "markdown",
      "metadata": {
        "_uuid": "ce439493c433f0ddb93f53f4982d84bb7ad87594",
        "id": "bINfc2OLg0qO",
        "colab_type": "text"
      },
      "source": [
        "**9.Adding the input layer and the first hidden layer **"
      ]
    },
    {
      "cell_type": "code",
      "metadata": {
        "_uuid": "a1b148d0c141c502ee07f7731a6f187be7016b1f",
        "id": "74KlirIGg0qQ",
        "colab_type": "code",
        "colab": {}
      },
      "source": [
        "classifier.add(Dense(output_dim=6,init='uniform',activation='relu',input_dim=11))"
      ],
      "execution_count": null,
      "outputs": []
    },
    {
      "cell_type": "markdown",
      "metadata": {
        "_uuid": "7a6bb0e29a7b36d77e82eb681af4b6a5760982a4",
        "id": "He6SpDdDg0qc",
        "colab_type": "text"
      },
      "source": [
        "**10.We will try diffrent number of layers and nodes the second hidden Layer **"
      ]
    },
    {
      "cell_type": "code",
      "metadata": {
        "_uuid": "79a8fd4699d18c98a8b7c6c9b5dcbb0bd5c5e9c3",
        "id": "wKZ4Udzqg0qg",
        "colab_type": "code",
        "colab": {}
      },
      "source": [
        "classifier.add(Dense(output_dim=6,init='uniform',activation='relu'))\n",
        "#classifier.add(Dense(output_dim=12,init='uniform',activation='relu'))\n",
        "#classifier.add(Dense(output_dim=6,init='uniform',activation='relu'))"
      ],
      "execution_count": null,
      "outputs": []
    },
    {
      "cell_type": "markdown",
      "metadata": {
        "_uuid": "07f464fdd194af3389669dd510bd1422b45b5eb0",
        "id": "X7hWJT8sg0qv",
        "colab_type": "text"
      },
      "source": [
        "**11.Adding the output  layer **"
      ]
    },
    {
      "cell_type": "code",
      "metadata": {
        "_uuid": "1d80b3f87a64d4b8aef0014dd0cfe63d43c0e6c1",
        "id": "afRIG1yXg0qx",
        "colab_type": "code",
        "colab": {}
      },
      "source": [
        "classifier.add(Dense(output_dim=1,init='uniform',activation='sigmoid'))"
      ],
      "execution_count": null,
      "outputs": []
    },
    {
      "cell_type": "markdown",
      "metadata": {
        "_uuid": "a5895c1ba3402441fb2bf84bf3d149e72bb85c18",
        "id": "aVfw77lyg0q3",
        "colab_type": "text"
      },
      "source": [
        "**12.Compliling the ANN**"
      ]
    },
    {
      "cell_type": "code",
      "metadata": {
        "_uuid": "ce349212b6f258fa666dfa724e10c89ebedaa17c",
        "id": "1DSXU9QNg0q5",
        "colab_type": "code",
        "colab": {
          "base_uri": "https://localhost:8080/",
          "height": 326
        },
        "outputId": "9d235f1f-04f5-4f74-830d-7ad0923d0906"
      },
      "source": [
        "classifier.compile(optimizer='adam',loss='binary_crossentropy',metrics=['recall'])"
      ],
      "execution_count": null,
      "outputs": [
        {
          "output_type": "error",
          "ename": "ValueError",
          "evalue": "ignored",
          "traceback": [
            "\u001b[0;31m---------------------------------------------------------------------------\u001b[0m",
            "\u001b[0;31mValueError\u001b[0m                                Traceback (most recent call last)",
            "\u001b[0;32m<ipython-input-92-c0cf222a3601>\u001b[0m in \u001b[0;36m<module>\u001b[0;34m()\u001b[0m\n\u001b[0;32m----> 1\u001b[0;31m \u001b[0mclassifier\u001b[0m\u001b[0;34m.\u001b[0m\u001b[0mcompile\u001b[0m\u001b[0;34m(\u001b[0m\u001b[0moptimizer\u001b[0m\u001b[0;34m=\u001b[0m\u001b[0;34m'adam'\u001b[0m\u001b[0;34m,\u001b[0m\u001b[0mloss\u001b[0m\u001b[0;34m=\u001b[0m\u001b[0;34m'binary_crossentropy'\u001b[0m\u001b[0;34m,\u001b[0m\u001b[0mmetrics\u001b[0m\u001b[0;34m=\u001b[0m\u001b[0;34m[\u001b[0m\u001b[0;34m'recall'\u001b[0m\u001b[0;34m]\u001b[0m\u001b[0;34m)\u001b[0m\u001b[0;34m\u001b[0m\u001b[0;34m\u001b[0m\u001b[0m\n\u001b[0m",
            "\u001b[0;32m/usr/local/lib/python3.6/dist-packages/keras/engine/training.py\u001b[0m in \u001b[0;36mcompile\u001b[0;34m(self, optimizer, loss, metrics, loss_weights, sample_weight_mode, weighted_metrics, target_tensors, **kwargs)\u001b[0m\n\u001b[1;32m    452\u001b[0m                 \u001b[0moutput_metrics\u001b[0m \u001b[0;34m=\u001b[0m \u001b[0mnested_metrics\u001b[0m\u001b[0;34m[\u001b[0m\u001b[0mi\u001b[0m\u001b[0;34m]\u001b[0m\u001b[0;34m\u001b[0m\u001b[0;34m\u001b[0m\u001b[0m\n\u001b[1;32m    453\u001b[0m                 \u001b[0moutput_weighted_metrics\u001b[0m \u001b[0;34m=\u001b[0m \u001b[0mnested_weighted_metrics\u001b[0m\u001b[0;34m[\u001b[0m\u001b[0mi\u001b[0m\u001b[0;34m]\u001b[0m\u001b[0;34m\u001b[0m\u001b[0;34m\u001b[0m\u001b[0m\n\u001b[0;32m--> 454\u001b[0;31m                 \u001b[0mhandle_metrics\u001b[0m\u001b[0;34m(\u001b[0m\u001b[0moutput_metrics\u001b[0m\u001b[0;34m)\u001b[0m\u001b[0;34m\u001b[0m\u001b[0;34m\u001b[0m\u001b[0m\n\u001b[0m\u001b[1;32m    455\u001b[0m                 \u001b[0mhandle_metrics\u001b[0m\u001b[0;34m(\u001b[0m\u001b[0moutput_weighted_metrics\u001b[0m\u001b[0;34m,\u001b[0m \u001b[0mweights\u001b[0m\u001b[0;34m=\u001b[0m\u001b[0mweights\u001b[0m\u001b[0;34m)\u001b[0m\u001b[0;34m\u001b[0m\u001b[0;34m\u001b[0m\u001b[0m\n\u001b[1;32m    456\u001b[0m \u001b[0;34m\u001b[0m\u001b[0m\n",
            "\u001b[0;32m/usr/local/lib/python3.6/dist-packages/keras/engine/training.py\u001b[0m in \u001b[0;36mhandle_metrics\u001b[0;34m(metrics, weights)\u001b[0m\n\u001b[1;32m    409\u001b[0m                     \u001b[0mmetric_name\u001b[0m \u001b[0;34m=\u001b[0m \u001b[0mmetric_name_prefix\u001b[0m \u001b[0;34m+\u001b[0m \u001b[0msuffix\u001b[0m\u001b[0;34m\u001b[0m\u001b[0;34m\u001b[0m\u001b[0m\n\u001b[1;32m    410\u001b[0m                 \u001b[0;32melse\u001b[0m\u001b[0;34m:\u001b[0m\u001b[0;34m\u001b[0m\u001b[0;34m\u001b[0m\u001b[0m\n\u001b[0;32m--> 411\u001b[0;31m                     \u001b[0mmetric_fn\u001b[0m \u001b[0;34m=\u001b[0m \u001b[0mmetrics_module\u001b[0m\u001b[0;34m.\u001b[0m\u001b[0mget\u001b[0m\u001b[0;34m(\u001b[0m\u001b[0mmetric\u001b[0m\u001b[0;34m)\u001b[0m\u001b[0;34m\u001b[0m\u001b[0;34m\u001b[0m\u001b[0m\n\u001b[0m\u001b[1;32m    412\u001b[0m                     \u001b[0mweighted_metric_fn\u001b[0m \u001b[0;34m=\u001b[0m \u001b[0mweighted_masked_objective\u001b[0m\u001b[0;34m(\u001b[0m\u001b[0mmetric_fn\u001b[0m\u001b[0;34m)\u001b[0m\u001b[0;34m\u001b[0m\u001b[0;34m\u001b[0m\u001b[0m\n\u001b[1;32m    413\u001b[0m                     \u001b[0;31m# Get metric name as string\u001b[0m\u001b[0;34m\u001b[0m\u001b[0;34m\u001b[0m\u001b[0;34m\u001b[0m\u001b[0m\n",
            "\u001b[0;32m/usr/local/lib/python3.6/dist-packages/keras/metrics.py\u001b[0m in \u001b[0;36mget\u001b[0;34m(identifier)\u001b[0m\n\u001b[1;32m     79\u001b[0m         \u001b[0;32mreturn\u001b[0m \u001b[0mdeserialize\u001b[0m\u001b[0;34m(\u001b[0m\u001b[0mconfig\u001b[0m\u001b[0;34m)\u001b[0m\u001b[0;34m\u001b[0m\u001b[0;34m\u001b[0m\u001b[0m\n\u001b[1;32m     80\u001b[0m     \u001b[0;32melif\u001b[0m \u001b[0misinstance\u001b[0m\u001b[0;34m(\u001b[0m\u001b[0midentifier\u001b[0m\u001b[0;34m,\u001b[0m \u001b[0msix\u001b[0m\u001b[0;34m.\u001b[0m\u001b[0mstring_types\u001b[0m\u001b[0;34m)\u001b[0m\u001b[0;34m:\u001b[0m\u001b[0;34m\u001b[0m\u001b[0;34m\u001b[0m\u001b[0m\n\u001b[0;32m---> 81\u001b[0;31m         \u001b[0;32mreturn\u001b[0m \u001b[0mdeserialize\u001b[0m\u001b[0;34m(\u001b[0m\u001b[0mstr\u001b[0m\u001b[0;34m(\u001b[0m\u001b[0midentifier\u001b[0m\u001b[0;34m)\u001b[0m\u001b[0;34m)\u001b[0m\u001b[0;34m\u001b[0m\u001b[0;34m\u001b[0m\u001b[0m\n\u001b[0m\u001b[1;32m     82\u001b[0m     \u001b[0;32melif\u001b[0m \u001b[0mcallable\u001b[0m\u001b[0;34m(\u001b[0m\u001b[0midentifier\u001b[0m\u001b[0;34m)\u001b[0m\u001b[0;34m:\u001b[0m\u001b[0;34m\u001b[0m\u001b[0;34m\u001b[0m\u001b[0m\n\u001b[1;32m     83\u001b[0m         \u001b[0;32mreturn\u001b[0m \u001b[0midentifier\u001b[0m\u001b[0;34m\u001b[0m\u001b[0;34m\u001b[0m\u001b[0m\n",
            "\u001b[0;32m/usr/local/lib/python3.6/dist-packages/keras/metrics.py\u001b[0m in \u001b[0;36mdeserialize\u001b[0;34m(config, custom_objects)\u001b[0m\n\u001b[1;32m     71\u001b[0m                                     \u001b[0mmodule_objects\u001b[0m\u001b[0;34m=\u001b[0m\u001b[0mglobals\u001b[0m\u001b[0;34m(\u001b[0m\u001b[0;34m)\u001b[0m\u001b[0;34m,\u001b[0m\u001b[0;34m\u001b[0m\u001b[0;34m\u001b[0m\u001b[0m\n\u001b[1;32m     72\u001b[0m                                     \u001b[0mcustom_objects\u001b[0m\u001b[0;34m=\u001b[0m\u001b[0mcustom_objects\u001b[0m\u001b[0;34m,\u001b[0m\u001b[0;34m\u001b[0m\u001b[0;34m\u001b[0m\u001b[0m\n\u001b[0;32m---> 73\u001b[0;31m                                     printable_module_name='metric function')\n\u001b[0m\u001b[1;32m     74\u001b[0m \u001b[0;34m\u001b[0m\u001b[0m\n\u001b[1;32m     75\u001b[0m \u001b[0;34m\u001b[0m\u001b[0m\n",
            "\u001b[0;32m/usr/local/lib/python3.6/dist-packages/keras/utils/generic_utils.py\u001b[0m in \u001b[0;36mdeserialize_keras_object\u001b[0;34m(identifier, module_objects, custom_objects, printable_module_name)\u001b[0m\n\u001b[1;32m    165\u001b[0m             \u001b[0;32mif\u001b[0m \u001b[0mfn\u001b[0m \u001b[0;32mis\u001b[0m \u001b[0;32mNone\u001b[0m\u001b[0;34m:\u001b[0m\u001b[0;34m\u001b[0m\u001b[0;34m\u001b[0m\u001b[0m\n\u001b[1;32m    166\u001b[0m                 raise ValueError('Unknown ' + printable_module_name +\n\u001b[0;32m--> 167\u001b[0;31m                                  ':' + function_name)\n\u001b[0m\u001b[1;32m    168\u001b[0m         \u001b[0;32mreturn\u001b[0m \u001b[0mfn\u001b[0m\u001b[0;34m\u001b[0m\u001b[0;34m\u001b[0m\u001b[0m\n\u001b[1;32m    169\u001b[0m     \u001b[0;32melse\u001b[0m\u001b[0;34m:\u001b[0m\u001b[0;34m\u001b[0m\u001b[0;34m\u001b[0m\u001b[0m\n",
            "\u001b[0;31mValueError\u001b[0m: Unknown metric function:recall"
          ]
        }
      ]
    },
    {
      "cell_type": "markdown",
      "metadata": {
        "_uuid": "474cdee42cb5be3c1bd45cfb5bb60abce74d73bd",
        "id": "RgPQcsDdg0q9",
        "colab_type": "text"
      },
      "source": [
        "**13.Fitting the ANN to training set **"
      ]
    },
    {
      "cell_type": "code",
      "metadata": {
        "_uuid": "708061fad4ae6b579808345d5e211a135373d3bf",
        "id": "xiTWsLDAg0q_",
        "colab_type": "code",
        "colab": {
          "base_uri": "https://localhost:8080/",
          "height": 1000
        },
        "outputId": "ba04f631-6d79-4806-8ff9-d9aaf985eab4"
      },
      "source": [
        "#classifier.fit(X_train,y_train, batch_size=10, nb_epoch=100)\n",
        "classifier.fit(X_train, y_train,batch_size=10,nb_epoch=30)"
      ],
      "execution_count": null,
      "outputs": [
        {
          "output_type": "stream",
          "text": [
            "Epoch 1/30\n",
            "8000/8000 [==============================] - 1s 174us/step - loss: 0.4842 - acc: 0.7955\n",
            "Epoch 2/30\n",
            "8000/8000 [==============================] - 1s 129us/step - loss: 0.4287 - acc: 0.7960\n",
            "Epoch 3/30\n",
            "8000/8000 [==============================] - 1s 129us/step - loss: 0.4239 - acc: 0.7960\n",
            "Epoch 4/30\n",
            "8000/8000 [==============================] - 1s 122us/step - loss: 0.4204 - acc: 0.8175\n",
            "Epoch 5/30\n",
            "8000/8000 [==============================] - 1s 124us/step - loss: 0.4179 - acc: 0.8260\n",
            "Epoch 6/30\n",
            "8000/8000 [==============================] - 1s 128us/step - loss: 0.4161 - acc: 0.8271\n",
            "Epoch 7/30\n",
            "8000/8000 [==============================] - 1s 128us/step - loss: 0.4137 - acc: 0.8297\n",
            "Epoch 8/30\n",
            "8000/8000 [==============================] - 1s 135us/step - loss: 0.4121 - acc: 0.8336\n",
            "Epoch 9/30\n",
            "8000/8000 [==============================] - 1s 129us/step - loss: 0.4107 - acc: 0.8335\n",
            "Epoch 10/30\n",
            "8000/8000 [==============================] - 1s 123us/step - loss: 0.4094 - acc: 0.8344\n",
            "Epoch 11/30\n",
            "8000/8000 [==============================] - 1s 122us/step - loss: 0.4082 - acc: 0.8342\n",
            "Epoch 12/30\n",
            "8000/8000 [==============================] - 1s 123us/step - loss: 0.4078 - acc: 0.8360\n",
            "Epoch 13/30\n",
            "8000/8000 [==============================] - 1s 128us/step - loss: 0.4066 - acc: 0.8349\n",
            "Epoch 14/30\n",
            "8000/8000 [==============================] - 1s 131us/step - loss: 0.4062 - acc: 0.8342\n",
            "Epoch 15/30\n",
            "8000/8000 [==============================] - 1s 128us/step - loss: 0.4052 - acc: 0.8344\n",
            "Epoch 16/30\n",
            "8000/8000 [==============================] - 1s 124us/step - loss: 0.4047 - acc: 0.8345\n",
            "Epoch 17/30\n",
            "8000/8000 [==============================] - 1s 123us/step - loss: 0.4049 - acc: 0.8346\n",
            "Epoch 18/30\n",
            "8000/8000 [==============================] - 1s 124us/step - loss: 0.4041 - acc: 0.8340\n",
            "Epoch 19/30\n",
            "8000/8000 [==============================] - 1s 124us/step - loss: 0.4039 - acc: 0.8344\n",
            "Epoch 20/30\n",
            "8000/8000 [==============================] - 1s 126us/step - loss: 0.4032 - acc: 0.8337\n",
            "Epoch 21/30\n",
            "8000/8000 [==============================] - 1s 129us/step - loss: 0.4032 - acc: 0.8337\n",
            "Epoch 22/30\n",
            "8000/8000 [==============================] - 1s 120us/step - loss: 0.4028 - acc: 0.8365\n",
            "Epoch 23/30\n",
            "8000/8000 [==============================] - 1s 122us/step - loss: 0.4026 - acc: 0.8350\n",
            "Epoch 24/30\n",
            "8000/8000 [==============================] - 1s 126us/step - loss: 0.4027 - acc: 0.8352\n",
            "Epoch 25/30\n",
            "8000/8000 [==============================] - 1s 122us/step - loss: 0.4025 - acc: 0.8339\n",
            "Epoch 26/30\n",
            "8000/8000 [==============================] - 1s 122us/step - loss: 0.4023 - acc: 0.8347\n",
            "Epoch 27/30\n",
            "8000/8000 [==============================] - 1s 123us/step - loss: 0.4024 - acc: 0.8341\n",
            "Epoch 28/30\n",
            "8000/8000 [==============================] - 1s 122us/step - loss: 0.4018 - acc: 0.8336\n",
            "Epoch 29/30\n",
            "8000/8000 [==============================] - 1s 126us/step - loss: 0.4013 - acc: 0.8351\n",
            "Epoch 30/30\n",
            "8000/8000 [==============================] - 1s 132us/step - loss: 0.4016 - acc: 0.8332\n"
          ],
          "name": "stdout"
        },
        {
          "output_type": "execute_result",
          "data": {
            "text/plain": [
              "<keras.callbacks.History at 0x7f8d9f6f4b00>"
            ]
          },
          "metadata": {
            "tags": []
          },
          "execution_count": 87
        }
      ]
    },
    {
      "cell_type": "markdown",
      "metadata": {
        "_uuid": "6fe209a00119920568844b7ca05d3d2b21bb42d0",
        "id": "95AGibkRg0rG",
        "colab_type": "text"
      },
      "source": [
        "**14.Predicting the test set results **"
      ]
    },
    {
      "cell_type": "code",
      "metadata": {
        "_uuid": "96a66225dda0b14075021ab7827e115753b6e57b",
        "id": "AclY_Fh1g0rH",
        "colab_type": "code",
        "colab": {}
      },
      "source": [
        "y_pred=classifier.predict(X_test)\n",
        "y_pred=(y_pred>0.5)\n",
        "#y_pred"
      ],
      "execution_count": null,
      "outputs": []
    },
    {
      "cell_type": "markdown",
      "metadata": {
        "_uuid": "1a719d23b275ea4246651e08e3f90d2a39ea0516",
        "id": "BlpjAgxpg0rR",
        "colab_type": "text"
      },
      "source": [
        "**15.Making the confusion matrix**"
      ]
    },
    {
      "cell_type": "code",
      "metadata": {
        "_kg_hide-input": true,
        "_uuid": "e59658ece8b30ef65ac94787c8d4df2ad3352d14",
        "id": "qDQeVfokg0re",
        "colab_type": "code",
        "colab": {
          "base_uri": "https://localhost:8080/",
          "height": 231
        },
        "outputId": "a9af386a-712b-463b-f744-da617e693211"
      },
      "source": [
        "from sklearn.metrics import confusion_matrix  #Class has capital at the begining function starts with small letters \n",
        "cm=confusion_matrix(y_test,y_pred)\n",
        "import seaborn as sns\n",
        "import matplotlib.pyplot as plt\n",
        "f, ax = plt.subplots(figsize =(5,5))\n",
        "sns.heatmap(cm,annot = True,linewidths=0.5,linecolor=\"red\",fmt = \".0f\",ax=ax)\n",
        "plt.title(\"Test for Test Dataset\")\n",
        "plt.xlabel(\"predicted y values\")\n",
        "plt.ylabel(\"real y values\")\n",
        "plt.show([])"
      ],
      "execution_count": null,
      "outputs": [
        {
          "output_type": "error",
          "ename": "NameError",
          "evalue": "ignored",
          "traceback": [
            "\u001b[0;31m---------------------------------------------------------------------------\u001b[0m",
            "\u001b[0;31mNameError\u001b[0m                                 Traceback (most recent call last)",
            "\u001b[0;32m<ipython-input-1-58c775acf304>\u001b[0m in \u001b[0;36m<module>\u001b[0;34m()\u001b[0m\n\u001b[1;32m      1\u001b[0m \u001b[0;32mfrom\u001b[0m \u001b[0msklearn\u001b[0m\u001b[0;34m.\u001b[0m\u001b[0mmetrics\u001b[0m \u001b[0;32mimport\u001b[0m \u001b[0mconfusion_matrix\u001b[0m  \u001b[0;31m#Class has capital at the begining function starts with small letters\u001b[0m\u001b[0;34m\u001b[0m\u001b[0;34m\u001b[0m\u001b[0m\n\u001b[0;32m----> 2\u001b[0;31m \u001b[0mcm\u001b[0m\u001b[0;34m=\u001b[0m\u001b[0mconfusion_matrix\u001b[0m\u001b[0;34m(\u001b[0m\u001b[0my_test\u001b[0m\u001b[0;34m,\u001b[0m\u001b[0my_pred\u001b[0m\u001b[0;34m)\u001b[0m\u001b[0;34m\u001b[0m\u001b[0;34m\u001b[0m\u001b[0m\n\u001b[0m\u001b[1;32m      3\u001b[0m \u001b[0;32mimport\u001b[0m \u001b[0mseaborn\u001b[0m \u001b[0;32mas\u001b[0m \u001b[0msns\u001b[0m\u001b[0;34m\u001b[0m\u001b[0;34m\u001b[0m\u001b[0m\n\u001b[1;32m      4\u001b[0m \u001b[0;32mimport\u001b[0m \u001b[0mmatplotlib\u001b[0m\u001b[0;34m.\u001b[0m\u001b[0mpyplot\u001b[0m \u001b[0;32mas\u001b[0m \u001b[0mplt\u001b[0m\u001b[0;34m\u001b[0m\u001b[0;34m\u001b[0m\u001b[0m\n\u001b[1;32m      5\u001b[0m \u001b[0mf\u001b[0m\u001b[0;34m,\u001b[0m \u001b[0max\u001b[0m \u001b[0;34m=\u001b[0m \u001b[0mplt\u001b[0m\u001b[0;34m.\u001b[0m\u001b[0msubplots\u001b[0m\u001b[0;34m(\u001b[0m\u001b[0mfigsize\u001b[0m \u001b[0;34m=\u001b[0m\u001b[0;34m(\u001b[0m\u001b[0;36m5\u001b[0m\u001b[0;34m,\u001b[0m\u001b[0;36m5\u001b[0m\u001b[0;34m)\u001b[0m\u001b[0;34m)\u001b[0m\u001b[0;34m\u001b[0m\u001b[0;34m\u001b[0m\u001b[0m\n",
            "\u001b[0;31mNameError\u001b[0m: name 'y_test' is not defined"
          ]
        }
      ]
    },
    {
      "cell_type": "code",
      "metadata": {
        "id": "FbWG3wYZyFDM",
        "colab_type": "code",
        "colab": {
          "base_uri": "https://localhost:8080/",
          "height": 85
        },
        "outputId": "8c16dc4f-7595-4bba-818c-3d98820d5bcb"
      },
      "source": [
        "print(cm)\n",
        "cp=cm[0][0]+cm[1][1]\n",
        "wp=cm[0][1]+cm[1][0]\n",
        "print(\"Correct prediction= %d\" %(cp))\n",
        "print(\"Wrong prediction= %d\" %(wp))"
      ],
      "execution_count": null,
      "outputs": [
        {
          "output_type": "stream",
          "text": [
            "[[1555   40]\n",
            " [ 284  121]]\n",
            "Correct prediction= 1676\n",
            "Wrong prediction= 324\n"
          ],
          "name": "stdout"
        }
      ]
    },
    {
      "cell_type": "code",
      "metadata": {
        "id": "_vRMZQxTv0r2",
        "colab_type": "code",
        "colab": {
          "base_uri": "https://localhost:8080/",
          "height": 68
        },
        "outputId": "2bf732f2-f585-43d9-ab06-7a740407c769"
      },
      "source": [
        "accuracy= (cm[0][0]+cm[1][1])/(cm[0][0]+cm[1][1]+cm[0][1]+cm[1][0])\n",
        "recall=cm[0][0]/(cm[0][0]+cm[1][0])\n",
        "precision=cm[0][0]/(cm[0][0]+cm[0][1])\n",
        "print(\"Accuracy: %f \" %(accuracy))\n",
        "print(\"Recall: %f \" %(recall))\n",
        "print(\"Precision: %f \" %(precision))"
      ],
      "execution_count": null,
      "outputs": [
        {
          "output_type": "stream",
          "text": [
            "Accuracy: 0.838000 \n",
            "Recall: 0.845568 \n",
            "Precision: 0.974922 \n"
          ],
          "name": "stdout"
        }
      ]
    },
    {
      "cell_type": "markdown",
      "metadata": {
        "id": "C1NSgpixt-6U",
        "colab_type": "text"
      },
      "source": [
        "![It has been shown by Ian Goodfellow (the creator of the generative adversarial network) that increasing the number of layers of neural networks tends to improve overall test set accuracy.](https://)https://miro.medium.com/max/1824/1*LtzuTUh0kkCfvlwKxx2zvw.png"
      ]
    },
    {
      "cell_type": "code",
      "metadata": {
        "id": "t_knBk0MuIR_",
        "colab_type": "code",
        "colab": {}
      },
      "source": [
        ""
      ],
      "execution_count": null,
      "outputs": []
    }
  ]
}